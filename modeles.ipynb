{
 "cells": [
  {
   "cell_type": "markdown",
   "metadata": {},
   "source": [
    "# Models for VALEO challenge."
   ]
  },
  {
   "cell_type": "code",
   "execution_count": 1,
   "metadata": {},
   "outputs": [
    {
     "data": {
      "text/plain": [
       "'C:\\\\Users\\\\pierr\\\\REPERTOIRE_PROJETS_DATA\\\\VALEO_PROJECT'"
      ]
     },
     "execution_count": 1,
     "metadata": {},
     "output_type": "execute_result"
    }
   ],
   "source": [
    "import numpy as np\n",
    "import pandas as pd\n",
    "import seaborn as sns\n",
    "import matplotlib.pyplot as plt\n",
    "import xgboost as xgb\n",
    "import scipy\n",
    "\n",
    "from sklearn.preprocessing import PolynomialFeatures, StandardScaler\n",
    "from sklearn.metrics import f1_score, accuracy_score, roc_auc_score, confusion_matrix, classification_report, precision_recall_curve\n",
    "from sklearn.feature_selection import SelectKBest, f_classif  # variables ayant le lien le plus fort avec la target dans un test de anova\n",
    "from imblearn.over_sampling import ADASYN\n",
    "from imblearn.over_sampling import SMOTE\n",
    "from imblearn.under_sampling import RandomUnderSampler\n",
    "\n",
    "from sklearn.model_selection import train_test_split, learning_curve, GridSearchCV, RandomizedSearchCV\n",
    "from sklearn.pipeline import make_pipeline \n",
    "\n",
    "from sklearn.tree import DecisionTreeClassifier\n",
    "from sklearn.ensemble import RandomForestClassifier, AdaBoostClassifier\n",
    "from sklearn.svm import SVC\n",
    "from sklearn.linear_model import LogisticRegression\n",
    "from sklearn.neighbors import KNeighborsClassifier\n",
    "from sklearn.naive_bayes import GaussianNB\n",
    "\n",
    "pd.set_option('display.max_row', 100)\n",
    "pd.set_option('display.max_column', 100)\n",
    "%pwd"
   ]
  },
  {
   "cell_type": "markdown",
   "metadata": {},
   "source": [
    "# Dataset loading :"
   ]
  },
  {
   "cell_type": "code",
   "execution_count": 2,
   "metadata": {},
   "outputs": [],
   "source": [
    "X = pd.read_csv('traininginputs.csv')\n",
    "y = pd.read_csv('trainingoutput.csv')\n",
    "X_true = pd.read_csv('testinputs.csv') "
   ]
  },
  {
   "cell_type": "markdown",
   "metadata": {},
   "source": [
    "# Remove useless columns"
   ]
  },
  {
   "cell_type": "code",
   "execution_count": 3,
   "metadata": {},
   "outputs": [],
   "source": [
    "X = X.drop('PROC_TRACEINFO',axis=1)\n",
    "y = y.drop('PROC_TRACEINFO',axis=1)\n",
    "X_true = X_true.drop('PROC_TRACEINFO',axis=1)\n",
    "\n",
    "col = X.columns"
   ]
  },
  {
   "cell_type": "markdown",
   "metadata": {},
   "source": [
    "# Creating the train and test sets. Checking the good balance."
   ]
  },
  {
   "cell_type": "code",
   "execution_count": 4,
   "metadata": {},
   "outputs": [
    {
     "data": {
      "text/plain": [
       "Binar OP130_Resultat_Global_v\n",
       "0                                27374\n",
       "1                                  238\n",
       "dtype: int64"
      ]
     },
     "execution_count": 4,
     "metadata": {},
     "output_type": "execute_result"
    }
   ],
   "source": [
    "X_train, X_test, y_train, y_test = train_test_split(X, y, test_size=0.2, random_state=0)\n",
    "y_train.value_counts()\n"
   ]
  },
  {
   "cell_type": "code",
   "execution_count": 5,
   "metadata": {},
   "outputs": [
    {
     "data": {
      "text/plain": [
       "Binar OP130_Resultat_Global_v\n",
       "0                                6836\n",
       "1                                  67\n",
       "dtype: int64"
      ]
     },
     "execution_count": 5,
     "metadata": {},
     "output_type": "execute_result"
    }
   ],
   "source": [
    "y_test.value_counts()"
   ]
  },
  {
   "cell_type": "markdown",
   "metadata": {},
   "source": [
    "# Preprocessing : \n",
    "# - NaN imputation\n",
    "# - normalisation for gradient convergence\n",
    "# - ADASYN sampling"
   ]
  },
  {
   "cell_type": "code",
   "execution_count": 6,
   "metadata": {},
   "outputs": [
    {
     "name": "stderr",
     "output_type": "stream",
     "text": [
      "C:\\Users\\pierr\\anaconda3\\lib\\site-packages\\pandas\\core\\indexing.py:1843: SettingWithCopyWarning: \n",
      "A value is trying to be set on a copy of a slice from a DataFrame.\n",
      "Try using .loc[row_indexer,col_indexer] = value instead\n",
      "\n",
      "See the caveats in the documentation: https://pandas.pydata.org/pandas-docs/stable/user_guide/indexing.html#returning-a-view-versus-a-copy\n",
      "  self.obj[item_labels[indexer[info_axis]]] = value\n"
     ]
    }
   ],
   "source": [
    "imputer = X_train['OP100_Capuchon_insertion_mesure'].median()\n",
    "\n",
    "\n",
    "def imputation(X_train, X_test, X_true): \n",
    "    X_train.loc[:,'OP100_Capuchon_insertion_mesure'] = X_train.loc[:,'OP100_Capuchon_insertion_mesure'] .fillna(imputer)\n",
    "    X_test.loc[:,'OP100_Capuchon_insertion_mesure'] = X_test.loc[:,'OP100_Capuchon_insertion_mesure'].fillna(imputer)\n",
    "    X_true.loc[:,'OP100_Capuchon_insertion_mesure'] = X_true.loc[:,'OP100_Capuchon_insertion_mesure'] .fillna(imputer)\n",
    "    return X_train, X_test, X_true\n",
    "\n",
    "X_train, X_test, X_true= imputation(X_train, X_test, X_true)   \n"
   ]
  },
  {
   "cell_type": "code",
   "execution_count": 7,
   "metadata": {},
   "outputs": [],
   "source": [
    "def normalize(X_train, X_test, X_true): #\n",
    "    scaler = StandardScaler()\n",
    "    scaler.fit(X_train) \n",
    "\n",
    "    X_train = scaler.transform(X_train) \n",
    "    X_test = scaler.transform(X_test)  \n",
    "    X_true = scaler.transform(X_true)\n",
    "    \n",
    "    X_train = pd.DataFrame(X_train, columns=col)\n",
    "    X_test = pd.DataFrame(X_test, columns=col)\n",
    "    X_true = pd.DataFrame(X_true, columns=col)\n",
    "    \n",
    "    return X_train, X_test, X_true\n",
    "\n",
    "\n",
    "X_train, X_test, X_true = normalize(X_train, X_test, X_true)  "
   ]
  },
  {
   "cell_type": "code",
   "execution_count": 8,
   "metadata": {},
   "outputs": [
    {
     "data": {
      "text/plain": [
       "(54836, 13)"
      ]
     },
     "execution_count": 8,
     "metadata": {},
     "output_type": "execute_result"
    }
   ],
   "source": [
    "def sampling(X_train, y_train): \n",
    "    \n",
    "    X_train,y_train = ADASYN().fit_sample(X_train,y_train)\n",
    "    df = pd.concat([X_train,y_train],axis=1)\n",
    "    df = df.sample(frac=1)#shuffle on rows\n",
    "    \n",
    "    X_train = df.drop('Binar OP130_Resultat_Global_v', axis=1)\n",
    "    y_train = df['Binar OP130_Resultat_Global_v']\n",
    "    \n",
    "    return X_train, y_train\n",
    "\n",
    "\n",
    "X_train, y_train = sampling(X_train, y_train)\n",
    "X_train.shape"
   ]
  },
  {
   "cell_type": "markdown",
   "metadata": {},
   "source": [
    "# Evaluation function and learning curves :"
   ]
  },
  {
   "cell_type": "code",
   "execution_count": 9,
   "metadata": {},
   "outputs": [],
   "source": [
    "def evaluation(model, X, y, X_test,y_test):\n",
    "                                      \n",
    "    model.fit(X,y)\n",
    "    \n",
    "    #score on train\n",
    "    ypred_X = model.predict(X)\n",
    "    score_train = roc_auc_score(y, ypred_X)\n",
    "    \n",
    "    #score on test\n",
    "    ypred_test = model.predict(X_test)\n",
    "    score_test = roc_auc_score(y_test, ypred_test)\n",
    "      \n",
    "    \n",
    "    return score_train, score_test"
   ]
  },
  {
   "cell_type": "code",
   "execution_count": 15,
   "metadata": {},
   "outputs": [],
   "source": [
    "def curves(model,X, y, X_test,y_test):\n",
    "    sizes = [1000,5000,10000,27000,50000]\n",
    "    \n",
    "    list_train=[]\n",
    "    list_test=[]\n",
    "    \n",
    "    for i in sizes:     \n",
    "        score_train, score_test = evaluation(model,X[0:i],y[0:i],X_test,y_test)\n",
    "        list_train.append(score_train)\n",
    "        list_test.append(score_test)\n",
    "\n",
    "   \n",
    "    \n",
    "    plt.figure()\n",
    "    plt.plot(sizes,list_test, label='test')\n",
    "    plt.plot(sizes,list_train,label='train')\n",
    "    plt.legend()"
   ]
  },
  {
   "cell_type": "markdown",
   "metadata": {},
   "source": [
    "# First try : simple model\n"
   ]
  },
  {
   "cell_type": "code",
   "execution_count": 17,
   "metadata": {},
   "outputs": [
    {
     "name": "stdout",
     "output_type": "stream",
     "text": [
      "(1.0, 0.5191719867601722)\n"
     ]
    },
    {
     "data": {
      "image/png": "[encoded data removed]",
      "text/plain": [
       "<Figure size 432x288 with 1 Axes>"
      ]
     },
     "metadata": {
      "needs_background": "light"
     },
     "output_type": "display_data"
    }
   ],
   "source": [
    "tree = DecisionTreeClassifier(random_state=0)\n",
    "\n",
    "print(evaluation(tree,X_train,y_train,X_test,y_test))\n",
    "\n",
    "curves(tree, X_train, y_train, X_test, y_test)"
   ]
  },
  {
   "cell_type": "raw",
   "metadata": {},
   "source": [
    "NB :overfitting"
   ]
  },
  {
   "cell_type": "code",
   "execution_count": 18,
   "metadata": {},
   "outputs": [
    {
     "data": {
      "text/plain": [
       "<AxesSubplot:>"
      ]
     },
     "execution_count": 18,
     "metadata": {},
     "output_type": "execute_result"
    },
    {
     "data": {
      "image/png": "[encoded data removed]",
      "text/plain": [
       "<Figure size 432x288 with 1 Axes>"
      ]
     },
     "metadata": {
      "needs_background": "light"
     },
     "output_type": "display_data"
    }
   ],
   "source": [
    "pd.DataFrame(tree.feature_importances_, index=X_train.columns).plot.bar()"
   ]
  },
  {
   "cell_type": "markdown",
   "metadata": {},
   "source": [
    "# Second try : random forest"
   ]
  },
  {
   "cell_type": "code",
   "execution_count": 21,
   "metadata": {},
   "outputs": [
    {
     "name": "stdout",
     "output_type": "stream",
     "text": [
      "(0.8508367283818135, 0.6019372854859698)\n"
     ]
    },
    {
     "data": {
      "text/plain": [
       "<AxesSubplot:>"
      ]
     },
     "execution_count": 21,
     "metadata": {},
     "output_type": "execute_result"
    },
    {
     "data": {
      "image/png": "[encoded data removed]",
      "text/plain": [
       "<Figure size 432x288 with 1 Axes>"
      ]
     },
     "metadata": {
      "needs_background": "light"
     },
     "output_type": "display_data"
    },
    {
     "data": {
      "image/png": "[encoded data removed]",
      "text/plain": [
       "<Figure size 432x288 with 1 Axes>"
      ]
     },
     "metadata": {
      "needs_background": "light"
     },
     "output_type": "display_data"
    }
   ],
   "source": [
    "forest = RandomForestClassifier(max_depth= 5, random_state=0)\n",
    "\n",
    "print(evaluation(forest,X_train,y_train,X_test,y_test))\n",
    "\n",
    "curves(forest,X_train,y_train,X_test,y_test)\n",
    "\n",
    "pd.DataFrame(forest.feature_importances_, index=X_train.columns).plot.bar()"
   ]
  },
  {
   "cell_type": "raw",
   "metadata": {},
   "source": [
    "NB : overfitting !"
   ]
  },
  {
   "cell_type": "markdown",
   "metadata": {},
   "source": [
    "# Third : logistic regression"
   ]
  },
  {
   "cell_type": "code",
   "execution_count": 22,
   "metadata": {},
   "outputs": [
    {
     "name": "stdout",
     "output_type": "stream",
     "text": [
      "(0.6437732415645294, 0.6011611049492153)\n"
     ]
    },
    {
     "data": {
      "image/png": "[encoded data removed]",
      "text/plain": [
       "<Figure size 432x288 with 1 Axes>"
      ]
     },
     "metadata": {
      "needs_background": "light"
     },
     "output_type": "display_data"
    }
   ],
   "source": [
    "lr = LogisticRegression(random_state=0)\n",
    "\n",
    "print(evaluation(lr, X_train, y_train, X_test, y_test))\n",
    "\n",
    "curves(lr, X_train, y_train, X_test, y_test)\n"
   ]
  },
  {
   "cell_type": "raw",
   "metadata": {},
   "source": [
    "NB : high bias"
   ]
  },
  {
   "cell_type": "markdown",
   "metadata": {},
   "source": [
    "# MORE SYSTEMATIC : comparison of many models"
   ]
  },
  {
   "cell_type": "code",
   "execution_count": 26,
   "metadata": {},
   "outputs": [],
   "source": [
    "#model list\n",
    "tree = DecisionTreeClassifier(random_state=0)  #overfit\n",
    "forest = RandomForestClassifier(max_features=3, random_state=0)#overfit\n",
    "ada = AdaBoostClassifier(random_state=0)       #overfit\n",
    "KNN = KNeighborsClassifier()                   #overfit\n",
    "LR = LogisticRegression(random_state=0)       #underfit\n",
    "SVM = SVC(random_state=0)                      #overfit\n",
    "xc = xgb.XGBClassifier()                       #overfit\n",
    "xr = xgb.XGBRegressor()                        #overfit\n",
    "nb = GaussianNB()                              #overfit\n",
    "\n"
   ]
  },
  {
   "cell_type": "code",
   "execution_count": 27,
   "metadata": {},
   "outputs": [
    {
     "name": "stdout",
     "output_type": "stream",
     "text": [
      "(1.0, 0.5191719867601722)\n",
      "(1.0, 0.5071701178135071)\n",
      "(0.8728402849931033, 0.5897138066251538)\n",
      "(0.6437732415645294, 0.6011611049492153)\n",
      "(0.6477208978002252, 0.5352512597923199)\n"
     ]
    },
    {
     "name": "stderr",
     "output_type": "stream",
     "text": [
      "C:\\Users\\pierr\\anaconda3\\lib\\site-packages\\xgboost\\sklearn.py:888: UserWarning: The use of label encoder in XGBClassifier is deprecated and will be removed in a future release. To remove this warning, do the following: 1) Pass option use_label_encoder=False when constructing XGBClassifier object; and 2) Encode your labels (y) as integers starting with 0, i.e. 0, 1, 2, ..., [num_class - 1].\n",
      "  warnings.warn(label_encoder_deprecation_msg, UserWarning)\n"
     ]
    },
    {
     "name": "stdout",
     "output_type": "stream",
     "text": [
      "[18:47:56] WARNING: C:/Users/Administrator/workspace/xgboost-win64_release_1.3.0/src/learner.cc:1061: Starting in XGBoost 1.3.0, the default evaluation metric used with the objective 'binary:logistic' was changed from 'error' to 'logloss'. Explicitly set eval_metric if you'd like to restore the old behavior.\n",
      "(0.9973599883475348, 0.5)\n",
      "(0.9999102740703005, 0.6020977616306996)\n"
     ]
    }
   ],
   "source": [
    "list_of_models=[tree, forest, ada ,LR ,nb ,xc, xr]\n",
    "\n",
    "for model in list_of_models:\n",
    "    print(evaluation(model,X_train, y_train, X_test, y_test))\n",
    "    #curves(model, X_train, y_train, X_test, y_test)   "
   ]
  },
  {
   "cell_type": "raw",
   "metadata": {},
   "source": [
    "NB : best score 0.6"
   ]
  },
  {
   "cell_type": "markdown",
   "metadata": {},
   "source": [
    "# Pipelines to adress overfitting."
   ]
  },
  {
   "cell_type": "code",
   "execution_count": 29,
   "metadata": {
    "scrolled": false
   },
   "outputs": [
    {
     "name": "stdout",
     "output_type": "stream",
     "text": [
      "(0.9922802417886534, 0.5069506912482643)\n",
      "(0.9922801832581511, 0.49970743124634287)\n",
      "(0.8744121096586837, 0.5781507908089745)\n",
      "[18:52:03] WARNING: C:/Users/Administrator/workspace/xgboost-win64_release_1.3.0/src/learner.cc:1061: Starting in XGBoost 1.3.0, the default evaluation metric used with the objective 'binary:logistic' was changed from 'error' to 'logloss'. Explicitly set eval_metric if you'd like to restore the old behavior.\n"
     ]
    },
    {
     "name": "stderr",
     "output_type": "stream",
     "text": [
      "C:\\Users\\pierr\\anaconda3\\lib\\site-packages\\xgboost\\sklearn.py:888: UserWarning: The use of label encoder in XGBClassifier is deprecated and will be removed in a future release. To remove this warning, do the following: 1) Pass option use_label_encoder=False when constructing XGBClassifier object; and 2) Encode your labels (y) as integers starting with 0, i.e. 0, 1, 2, ..., [num_class - 1].\n",
      "  warnings.warn(label_encoder_deprecation_msg, UserWarning)\n"
     ]
    },
    {
     "name": "stdout",
     "output_type": "stream",
     "text": [
      "(0.991606115398834, 0.49992685781158575)\n",
      "(0.6017865321069575, 0.5786223941730784)\n",
      "(0.9983136670579749, 0.691703492484913)\n"
     ]
    }
   ],
   "source": [
    "list_of_models=[tree, forest, ada, xc, LR, xr]\n",
    "\n",
    "for model in list_of_models:\n",
    "    pipe_overfiting = make_pipeline(SelectKBest(f_classif,k=4), model)\n",
    "    print(evaluation(pipe_overfiting,X_train,y_train,X_test, y_test))"
   ]
  },
  {
   "cell_type": "code",
   "execution_count": 30,
   "metadata": {},
   "outputs": [
    {
     "name": "stdout",
     "output_type": "stream",
     "text": [
      "(0.7419471180956163, 0.5650867226186214)\n"
     ]
    },
    {
     "name": "stderr",
     "output_type": "stream",
     "text": [
      "C:\\Users\\pierr\\anaconda3\\lib\\site-packages\\sklearn\\linear_model\\_logistic.py:762: ConvergenceWarning: lbfgs failed to converge (status=1):\n",
      "STOP: TOTAL NO. of ITERATIONS REACHED LIMIT.\n",
      "\n",
      "Increase the number of iterations (max_iter) or scale the data as shown in:\n",
      "    https://scikit-learn.org/stable/modules/preprocessing.html\n",
      "Please also refer to the documentation for alternative solver options:\n",
      "    https://scikit-learn.org/stable/modules/linear_model.html#logistic-regression\n",
      "  n_iter_i = _check_optimize_result(\n"
     ]
    }
   ],
   "source": [
    "pipe_underfiting = make_pipeline(PolynomialFeatures(2),LR)\n",
    "print(evaluation(pipe_underfiting, X_train, y_train, X_test, y_test))"
   ]
  },
  {
   "cell_type": "markdown",
   "metadata": {},
   "source": [
    "# Curves for best model : xgboost"
   ]
  },
  {
   "cell_type": "code",
   "execution_count": 31,
   "metadata": {},
   "outputs": [
    {
     "name": "stdout",
     "output_type": "stream",
     "text": [
      "(0.9983136670579749, 0.691703492484913)\n"
     ]
    },
    {
     "data": {
      "image/png": "[encoded data removed]",
      "text/plain": [
       "<Figure size 432x288 with 1 Axes>"
      ]
     },
     "metadata": {
      "needs_background": "light"
     },
     "output_type": "display_data"
    }
   ],
   "source": [
    "pipe_xgbr=make_pipeline(SelectKBest(f_classif,k=4),xr)\n",
    "\n",
    "print(evaluation(pipe_xgbr,X_train,y_train,X_test,y_test))\n",
    "curves(pipe_xgbr,X_train,y_train,X_test,y_test)"
   ]
  },
  {
   "cell_type": "markdown",
   "metadata": {},
   "source": [
    "# Hyperparameters optimization by gridsearchCV"
   ]
  },
  {
   "cell_type": "code",
   "execution_count": 32,
   "metadata": {},
   "outputs": [
    {
     "data": {
      "text/plain": [
       "Pipeline(steps=[('selectkbest', SelectKBest(k=4)),\n",
       "                ('xgbregressor',\n",
       "                 XGBRegressor(base_score=0.5, booster='gbtree',\n",
       "                              colsample_bylevel=1, colsample_bynode=1,\n",
       "                              colsample_bytree=1, gamma=0, gpu_id=-1,\n",
       "                              importance_type='gain',\n",
       "                              interaction_constraints='',\n",
       "                              learning_rate=0.300000012, max_delta_step=0,\n",
       "                              max_depth=6, min_child_weight=1, missing=nan,\n",
       "                              monotone_constraints='()', n_estimators=100,\n",
       "                              n_jobs=8, num_parallel_tree=1, random_state=0,\n",
       "                              reg_alpha=0, reg_lambda=1, scale_pos_weight=1,\n",
       "                              subsample=1, tree_method='exact',\n",
       "                              validate_parameters=1, verbosity=None))])"
      ]
     },
     "execution_count": 32,
     "metadata": {},
     "output_type": "execute_result"
    }
   ],
   "source": [
    "pipe_xgbr"
   ]
  },
  {
   "cell_type": "code",
   "execution_count": 33,
   "metadata": {},
   "outputs": [
    {
     "name": "stdout",
     "output_type": "stream",
     "text": [
      "meilleur k: 4\n",
      "meilleur score: 0.6699322288498991\n",
      "meilleur depth: 8\n",
      "meilleur rate: 0.1\n"
     ]
    }
   ],
   "source": [
    "def grid_search_custom(X_train, y_train, X_test, y_test):\n",
    "    \n",
    "    #parameters\n",
    "    k_list = range(2,10)\n",
    "    depth_list = [2,4,8,16]\n",
    "    rate_list = [0.0001, 0.001, 0.01, 0.1, 1]\n",
    "    \n",
    "    #initialisations:\n",
    "    best_k = 2\n",
    "    best_depth = 2\n",
    "    best_rate = 0.001\n",
    "    best_score = 0\n",
    "    \n",
    "    for r in rate_list:\n",
    "        for d in depth_list:\n",
    "            for kb in k_list:\n",
    "                pipe_xgbr = make_pipeline(SelectKBest(f_classif,k=kb),xgb.XGBRegressor(learning_rate=r ,max_depth=d) )\n",
    "                a, b =evaluation(pipe_xgbr,X_train,y_train,X_test,y_test)\n",
    "                if b > best_score:\n",
    "                    best_score=b\n",
    "                    best_k=kb\n",
    "                    best_depth=d\n",
    "                    best_rate=r\n",
    "                    best_modele=pipe_xgbr\n",
    "\n",
    "    print('meilleur k:', best_k)\n",
    "    print('meilleur score:',best_score)\n",
    "    print('meilleur depth:', best_depth)\n",
    "    print('meilleur rate:', best_rate)\n",
    "    return best_modele\n",
    "\n",
    "best_modele=grid_search_custom(X_train,y_train,X_test,y_test)"
   ]
  },
  {
   "cell_type": "code",
   "execution_count": 34,
   "metadata": {},
   "outputs": [
    {
     "data": {
      "image/png": "[encoded data removed]",
      "text/plain": [
       "<Figure size 432x288 with 1 Axes>"
      ]
     },
     "metadata": {
      "needs_background": "light"
     },
     "output_type": "display_data"
    }
   ],
   "source": [
    "curves(best_modele, X_train, y_train, X_test, y_test)"
   ]
  },
  {
   "cell_type": "markdown",
   "metadata": {},
   "source": [
    "# Formatting the submission for competition."
   ]
  },
  {
   "cell_type": "code",
   "execution_count": 35,
   "metadata": {},
   "outputs": [
    {
     "name": "stdout",
     "output_type": "stream",
     "text": [
      "                  PROC_TRACEINFO  Binar OP130_Resultat_Global_v\n",
      "0     I-B-XA1207672-190520-00632                          False\n",
      "1     I-B-XA1207672-190508-03689                          False\n",
      "2     I-B-XA1207672-190715-00577                          False\n",
      "3     I-B-XA1207672-190503-00796                          False\n",
      "4     I-B-XA1207672-190712-01837                          False\n",
      "...                          ...                            ...\n",
      "7996  I-B-XA1207672-190905-03031                          False\n",
      "7997  I-B-XA1207672-190531-00225                          False\n",
      "7998  I-B-XA1207672-190424-03040                          False\n",
      "7999  I-B-XA1207672-190715-00155                          False\n",
      "8000  I-B-XA1207672-190503-00995                          False\n",
      "\n",
      "[8001 rows x 2 columns]\n"
     ]
    }
   ],
   "source": [
    "ypred=best_modele.predict(X_true)\n",
    "ypred=ypred>0.5\n",
    "\n",
    "\n",
    "df_out=pd.read_csv('Random_Submission_format.csv')\n",
    "df_out['Binar OP130_Resultat_Global_v']=ypred\n",
    "\n",
    "#export a dataframe in csv\n",
    "df_out.to_csv('prediction finale valeo' ,index=False)\n",
    "\n",
    "print(df_out)\n"
   ]
  },
  {
   "cell_type": "markdown",
   "metadata": {},
   "source": [
    "# ----------------------PERSONNAL NOTES, DO NOT READ  --------------------\n"
   ]
  },
  {
   "cell_type": "markdown",
   "metadata": {},
   "source": [
    "# gaussian multivariate from scratch"
   ]
  },
  {
   "cell_type": "code",
   "execution_count": 36,
   "metadata": {},
   "outputs": [
    {
     "name": "stdout",
     "output_type": "stream",
     "text": [
      "3.376300297334849e-05\n",
      "melleur i 99\n",
      "0.5049214044366094\n"
     ]
    }
   ],
   "source": [
    "from scipy.stats import multivariate_normal\n",
    "\n",
    "\n",
    "X=X_train.to_numpy()\n",
    "\n",
    "m=X.shape[0]\n",
    "\n",
    "mu=np.mean(X, axis=0)\n",
    "\n",
    "V=X-mu\n",
    "\n",
    "cov_matrix=1/m*(V.T).dot(V)\n",
    "\n",
    "model_gaussien= multivariate_normal(mean=mu, cov=cov_matrix)\n",
    "\n",
    "v_eval=model_gaussien.pdf(X) #fonction de densité du modèle\n",
    "\n",
    "max=v_eval.max() #sur tout \n",
    "min=v_eval.min()\n",
    "\n",
    "def eval(X_test,y_test,seuil):\n",
    "        vecteur_valeurs=model_gaussien.pdf(X_test)\n",
    "        mask=vecteur_valeurs<seuil\n",
    "        return roc_auc_score(mask,y_test)      \n",
    "        \n",
    "meilleur_centile=0\n",
    "meilleur_score=0\n",
    "\n",
    "for i in range (1,100):\n",
    "    seuil=scipy.stats.scoreatpercentile(v_eval, i)\n",
    "    if eval(X_test,y_test,seuil)>meilleur_score:\n",
    "        meilleur_centile=i\n",
    "        meilleur_score=eval(X_test,y_test,seuil)\n",
    "print(seuil)\n",
    "\n",
    "print('melleur i',i)\n",
    "print(meilleur_score)"
   ]
  }
 ],
 "metadata": {
  "kernelspec": {
   "display_name": "Python 3",
   "language": "python",
   "name": "python3"
  },
  "language_info": {
   "codemirror_mode": {
    "name": "ipython",
    "version": 3
   },
   "file_extension": ".py",
   "mimetype": "text/x-python",
   "name": "python",
   "nbconvert_exporter": "python",
   "pygments_lexer": "ipython3",
   "version": "3.8.5"
  }
 },
 "nbformat": 4,
 "nbformat_minor": 4
}
