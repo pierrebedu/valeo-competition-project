{
 "cells": [
  {
   "cell_type": "markdown",
   "metadata": {},
   "source": [
    "# PROJET VALEO : CLASSIFICATION\n"
   ]
  },
  {
   "cell_type": "code",
   "execution_count": 1,
   "metadata": {},
   "outputs": [
    {
     "data": {
      "text/plain": [
       "'C:\\\\Users\\\\pierr\\\\VALEO PROJECT'"
      ]
     },
     "execution_count": 1,
     "metadata": {},
     "output_type": "execute_result"
    }
   ],
   "source": [
    "import numpy as np\n",
    "import pandas as pd\n",
    "import seaborn as sns\n",
    "import matplotlib.pyplot as plt\n",
    "import xgboost as xgb\n",
    "\n",
    "from sklearn.preprocessing import PolynomialFeatures, StandardScaler\n",
    "from sklearn.metrics import f1_score, roc_auc_score, confusion_matrix, classification_report, precision_recall_curve\n",
    "from sklearn.feature_selection import SelectKBest, f_classif  # variables ayant le lien le plus fort avec la target dans un test de anova\n",
    "from imblearn.over_sampling import ADASYN\n",
    "from imblearn.over_sampling import SMOTE\n",
    "from imblearn.under_sampling import RandomUnderSampler\n",
    "\n",
    "from sklearn.model_selection import train_test_split, learning_curve, GridSearchCV, RandomizedSearchCV\n",
    "from sklearn.pipeline import make_pipeline \n",
    "\n",
    "from sklearn.tree import DecisionTreeClassifier\n",
    "from sklearn.ensemble import RandomForestClassifier, AdaBoostClassifier\n",
    "from sklearn.svm import SVC\n",
    "from sklearn.linear_model import LogisticRegression\n",
    "from sklearn.neighbors import KNeighborsClassifier\n",
    "from sklearn.naive_bayes import GaussianNB\n",
    "\n",
    "pd.set_option('display.max_row', 100)\n",
    "pd.set_option('display.max_column', 100)\n",
    "%pwd"
   ]
  },
  {
   "cell_type": "markdown",
   "metadata": {},
   "source": [
    "# Chargement du dataset :"
   ]
  },
  {
   "cell_type": "code",
   "execution_count": 2,
   "metadata": {},
   "outputs": [],
   "source": [
    "X=pd.read_csv('traininginputs.csv')\n",
    "y=pd.read_csv('trainingoutput.csv')\n",
    "X_true=pd.read_csv('testinputs.csv') "
   ]
  },
  {
   "cell_type": "markdown",
   "metadata": {},
   "source": [
    "# Suppression des colonnes inutiles"
   ]
  },
  {
   "cell_type": "code",
   "execution_count": 3,
   "metadata": {},
   "outputs": [],
   "source": [
    "X=X.drop('PROC_TRACEINFO',axis=1)#la colonne \"nom\" est inutile\n",
    "y=y.drop('PROC_TRACEINFO',axis=1)\n",
    "X_true=X_true.drop('PROC_TRACEINFO',axis=1)\n",
    "\n",
    "col=X.columns"
   ]
  },
  {
   "cell_type": "markdown",
   "metadata": {},
   "source": [
    "# On crée train et test :\n",
    "En vérifiant l' équilibre."
   ]
  },
  {
   "cell_type": "code",
   "execution_count": 4,
   "metadata": {},
   "outputs": [
    {
     "data": {
      "text/plain": [
       "Binar OP130_Resultat_Global_v\n",
       "0                                27374\n",
       "1                                  238\n",
       "dtype: int64"
      ]
     },
     "execution_count": 4,
     "metadata": {},
     "output_type": "execute_result"
    }
   ],
   "source": [
    "X_train, X_test, y_train, y_test = train_test_split(X, y, test_size=0.2, random_state=0)\n",
    "y_train.value_counts()\n"
   ]
  },
  {
   "cell_type": "code",
   "execution_count": 5,
   "metadata": {},
   "outputs": [
    {
     "data": {
      "text/plain": [
       "Binar OP130_Resultat_Global_v\n",
       "0                                6836\n",
       "1                                  67\n",
       "dtype: int64"
      ]
     },
     "execution_count": 5,
     "metadata": {},
     "output_type": "execute_result"
    }
   ],
   "source": [
    "y_test.value_counts()"
   ]
  },
  {
   "cell_type": "markdown",
   "metadata": {},
   "source": [
    "# Preprocessing : imputation NaN, normalisation avant le sampling sur le train)"
   ]
  },
  {
   "cell_type": "code",
   "execution_count": 6,
   "metadata": {},
   "outputs": [
    {
     "name": "stderr",
     "output_type": "stream",
     "text": [
      "C:\\Users\\pierr\\anaconda3\\lib\\site-packages\\pandas\\core\\indexing.py:1783: SettingWithCopyWarning: \n",
      "A value is trying to be set on a copy of a slice from a DataFrame.\n",
      "Try using .loc[row_indexer,col_indexer] = value instead\n",
      "\n",
      "See the caveats in the documentation: https://pandas.pydata.org/pandas-docs/stable/user_guide/indexing.html#returning-a-view-versus-a-copy\n",
      "  self.obj[item_labels[indexer[info_axis]]] = value\n"
     ]
    }
   ],
   "source": [
    "imputer=X_train['OP100_Capuchon_insertion_mesure'].median()\n",
    "\n",
    "\n",
    "def imputation(X_train, X_test, X_true): #sur toutes\n",
    "    X_train.loc[:,'OP100_Capuchon_insertion_mesure'] = X_train.loc[:,'OP100_Capuchon_insertion_mesure'] .fillna(imputer)\n",
    "    X_test.loc[:,'OP100_Capuchon_insertion_mesure'] = X_test.loc[:,'OP100_Capuchon_insertion_mesure'].fillna(imputer)\n",
    "    X_true.loc[:,'OP100_Capuchon_insertion_mesure'] = X_true.loc[:,'OP100_Capuchon_insertion_mesure'] .fillna(imputer)\n",
    "    return X_train, X_test, X_true\n",
    "\n",
    "X_train, X_test, X_true= imputation(X_train, X_test, X_true)   \n"
   ]
  },
  {
   "cell_type": "code",
   "execution_count": 7,
   "metadata": {},
   "outputs": [],
   "source": [
    "def normalize(X_train, X_test, X_true): #sur toutes\n",
    "    scaler = StandardScaler()\n",
    "    scaler.fit(X_train) \n",
    "\n",
    "    X_train= scaler.transform(X_train) \n",
    "    X_test= scaler.transform(X_test)  \n",
    "    X_true=scaler.transform(X_true)\n",
    "    \n",
    "    X_train=pd.DataFrame(X_train, columns=col)\n",
    "    X_test=pd.DataFrame(X_test, columns=col)\n",
    "    X_true=pd.DataFrame(X_true, columns=col)\n",
    "    \n",
    "    return X_train, X_test, X_true\n",
    "\n",
    "\n",
    "X_train, X_test, X_true=normalize(X_train, X_test, X_true)  "
   ]
  },
  {
   "cell_type": "code",
   "execution_count": 8,
   "metadata": {},
   "outputs": [
    {
     "data": {
      "text/plain": [
       "(54836, 13)"
      ]
     },
     "execution_count": 8,
     "metadata": {},
     "output_type": "execute_result"
    }
   ],
   "source": [
    "def sampling(X_train, y_train): #sur le train \n",
    "    X_train,y_train= ADASYN().fit_sample(X_train,y_train)\n",
    "    df=pd.concat([X_train,y_train],axis=1)\n",
    "    df=df.sample(frac=1)#shuffle sur les lignes\n",
    "    X_train = df.drop('Binar OP130_Resultat_Global_v', axis=1)\n",
    "    y_train = df['Binar OP130_Resultat_Global_v']\n",
    "    return X_train, y_train\n",
    "\n",
    "\n",
    "X_train, y_train= sampling(X_train, y_train)\n",
    "X_train.shape"
   ]
  },
  {
   "cell_type": "markdown",
   "metadata": {},
   "source": [
    "# Fonction d'évaluation et courbes d'apprentissage :"
   ]
  },
  {
   "cell_type": "code",
   "execution_count": 9,
   "metadata": {},
   "outputs": [],
   "source": [
    "def evaluation(model,X,y,X_test,y_test):\n",
    "                                      \n",
    "    model.fit(X,y)\n",
    "    \n",
    "    #score sur le train\n",
    "    ypred1=model.predict(X)\n",
    "    score_train=roc_auc_score(y,ypred1)\n",
    "    \n",
    "    #score sur le test\n",
    "    ypred2=model.predict(X_test)\n",
    "    score_test=roc_auc_score(y_test,ypred2)\n",
    "      \n",
    "    \n",
    "    return score_train, score_test"
   ]
  },
  {
   "cell_type": "code",
   "execution_count": 10,
   "metadata": {},
   "outputs": [],
   "source": [
    "def courbes(model,X,y,X_test,y_test):\n",
    "    tailles=[10,1000,5000,10000,27000,50000]\n",
    "    \n",
    "    liste_train=[]\n",
    "    liste_test=[]\n",
    "    \n",
    "    for i in tailles:     \n",
    "        a,b=evaluation(model,X[0:i],y[0:i],X_test,y_test)\n",
    "        liste_train.append(a)\n",
    "        liste_test.append(b)\n",
    "\n",
    "   \n",
    "    \n",
    "    plt.figure()\n",
    "    plt.plot(tailles,liste_test, label='test')\n",
    "    plt.plot(tailles,liste_train,label='train')\n",
    "    plt.legend()"
   ]
  },
  {
   "cell_type": "markdown",
   "metadata": {},
   "source": [
    "# Essai d'un model simplissime\n",
    "Arbre de décision->overfit"
   ]
  },
  {
   "cell_type": "code",
   "execution_count": 11,
   "metadata": {},
   "outputs": [
    {
     "name": "stdout",
     "output_type": "stream",
     "text": [
      "(1.0, 0.5128064330192221)\n"
     ]
    },
    {
     "data": {
      "image/png": "[encoded data removed]",
      "text/plain": [
       "<Figure size 432x288 with 1 Axes>"
      ]
     },
     "metadata": {
      "needs_background": "light"
     },
     "output_type": "display_data"
    }
   ],
   "source": [
    "tree=DecisionTreeClassifier(random_state=0)#max_depth à optimiser\n",
    "\n",
    "print(evaluation(tree,X_train,y_train,X_test,y_test))\n",
    "\n",
    "courbes(tree,X_train,y_train,X_test,y_test)"
   ]
  },
  {
   "cell_type": "code",
   "execution_count": 173,
   "metadata": {},
   "outputs": [
    {
     "data": {
      "text/plain": [
       "<AxesSubplot:>"
      ]
     },
     "execution_count": 173,
     "metadata": {},
     "output_type": "execute_result"
    },
    {
     "data": {
      "image/png": "[encoded data removed]",
      "text/plain": [
       "<Figure size 432x288 with 1 Axes>"
      ]
     },
     "metadata": {
      "needs_background": "light"
     },
     "output_type": "display_data"
    }
   ],
   "source": [
    "pd.DataFrame(tree.feature_importances_, index=X_train.columns).plot.bar()"
   ]
  },
  {
   "cell_type": "markdown",
   "metadata": {},
   "source": [
    "# Essai d un modèle simple régularisé \n",
    "random forest-> overfit\n"
   ]
  },
  {
   "cell_type": "code",
   "execution_count": 204,
   "metadata": {},
   "outputs": [
    {
     "name": "stdout",
     "output_type": "stream",
     "text": [
      "(1.0, 0.5073164021903357)\n"
     ]
    },
    {
     "data": {
      "text/plain": [
       "<AxesSubplot:>"
      ]
     },
     "execution_count": 204,
     "metadata": {},
     "output_type": "execute_result"
    },
    {
     "data": {
      "image/png": "[encoded data removed]",
      "text/plain": [
       "<Figure size 432x288 with 1 Axes>"
      ]
     },
     "metadata": {
      "needs_background": "light"
     },
     "output_type": "display_data"
    },
    {
     "data": {
      "image/png": "[encoded data removed]",
      "text/plain": [
       "<Figure size 432x288 with 1 Axes>"
      ]
     },
     "metadata": {
      "needs_background": "light"
     },
     "output_type": "display_data"
    }
   ],
   "source": [
    "forest=RandomForestClassifier(random_state=0)\n",
    "\n",
    "print(evaluation(forest,X_train,y_train,X_test,y_test))\n",
    "\n",
    "courbes(forest,X_train,y_train,X_test,y_test)\n",
    "\n",
    "pd.DataFrame(forest.feature_importances_, index=X_train.columns).plot.bar()"
   ]
  },
  {
   "cell_type": "markdown",
   "metadata": {},
   "source": [
    "# Essai simple de logistic regression\n",
    "high bias"
   ]
  },
  {
   "cell_type": "code",
   "execution_count": 12,
   "metadata": {},
   "outputs": [
    {
     "name": "stdout",
     "output_type": "stream",
     "text": [
      "(0.6444107198785127, 0.6014536737028724)\n"
     ]
    },
    {
     "data": {
      "image/png": "[encoded data removed]",
      "text/plain": [
       "<Figure size 432x288 with 1 Axes>"
      ]
     },
     "metadata": {
      "needs_background": "light"
     },
     "output_type": "display_data"
    }
   ],
   "source": [
    "lr=LogisticRegression(random_state=0)\n",
    "\n",
    "print(evaluation(lr,X_train,y_train,X_test,y_test))\n",
    "\n",
    "courbes(lr,X_train,y_train,X_test,y_test)\n"
   ]
  },
  {
   "cell_type": "markdown",
   "metadata": {},
   "source": [
    "# PLUS SYSTEMATIQUE :  comparaison de plusieurs modèles\n",
    "beaucoup d'overfitting :\n",
    "-simplifier les modèles (moins de depth?)\n",
    "-davantage d'exemples (difficile)\n",
    "-simplifier le train (kbest? pca?)\n",
    "-constante de régularisation"
   ]
  },
  {
   "cell_type": "code",
   "execution_count": 14,
   "metadata": {},
   "outputs": [],
   "source": [
    "#liste de modèles\n",
    "tree=DecisionTreeClassifier(random_state=0)  #overfit\n",
    "forest=RandomForestClassifier(random_state=0)#overfit\n",
    "ada=AdaBoostClassifier(random_state=0)       #overfit\n",
    "KNN=KNeighborsClassifier()                   #overfit\n",
    "LR= LogisticRegression(random_state=0)       #underfit\n",
    "SVM=SVC(random_state=0)                      #overfit\n",
    "xc=xgb.XGBClassifier()                       #overfit\n",
    "xr=xgb.XGBRegressor()                        #overfit\n",
    "nb=GaussianNB()                              #overfit\n",
    "#multivariate gaussian\n",
    "\n",
    "\n",
    "\n"
   ]
  },
  {
   "cell_type": "code",
   "execution_count": 177,
   "metadata": {},
   "outputs": [
    {
     "name": "stdout",
     "output_type": "stream",
     "text": [
      "(1.0, 0.5297797874291503)\n",
      "(0.8791719151899196, 0.5535684654550534)\n",
      "(0.6459042772904467, 0.6007953940071439)\n",
      "(0.6482819778459176, 0.5417630979100984)\n",
      "(0.9998686562227286, 0.5649589967075098)\n"
     ]
    },
    {
     "data": {
      "image/png": "[encoded data removed]",
      "text/plain": [
       "<Figure size 432x288 with 1 Axes>"
      ]
     },
     "metadata": {
      "needs_background": "light"
     },
     "output_type": "display_data"
    },
    {
     "data": {
      "image/png": "[encoded data removed]",
      "text/plain": [
       "<Figure size 432x288 with 1 Axes>"
      ]
     },
     "metadata": {
      "needs_background": "light"
     },
     "output_type": "display_data"
    },
    {
     "data": {
      "image/png": "[encoded data removed]",
      "text/plain": [
       "<Figure size 432x288 with 1 Axes>"
      ]
     },
     "metadata": {
      "needs_background": "light"
     },
     "output_type": "display_data"
    },
    {
     "data": {
      "image/png": "[encoded data removed]",
      "text/plain": [
       "<Figure size 432x288 with 1 Axes>"
      ]
     },
     "metadata": {
      "needs_background": "light"
     },
     "output_type": "display_data"
    },
    {
     "data": {
      "image/png": "[encoded data removed]",
      "text/plain": [
       "<Figure size 432x288 with 1 Axes>"
      ]
     },
     "metadata": {
      "needs_background": "light"
     },
     "output_type": "display_data"
    }
   ],
   "source": [
    "list_of_models=[tree,ada,LR,nb,xr] #remarque : on peut faire mieux avec un dictionnaire\n",
    "\n",
    "for model in list_of_models:\n",
    "    print(evaluation(model,X_train,y_train,X_test,y_test))\n",
    "    courbes(model,X_train,y_train,X_test,y_test)   "
   ]
  },
  {
   "cell_type": "markdown",
   "metadata": {},
   "source": [
    "# On crée des pipelines pour contrer l'overfiting (ou undefitting pour LR)"
   ]
  },
  {
   "cell_type": "code",
   "execution_count": 73,
   "metadata": {
    "scrolled": false
   },
   "outputs": [
    {
     "name": "stdout",
     "output_type": "stream",
     "text": [
      "(0.9919814422444655, 0.50687754905985)\n",
      "(0.9919631767370497, 0.4996342890579286)\n",
      "(0.8812194052750786, 0.5747087412556876)\n",
      "(0.998309890076583, 0.6745052531374724)\n",
      "[09:37:15] WARNING: C:/Users/Administrator/workspace/xgboost-win64_release_1.3.0/src/learner.cc:1061: Starting in XGBoost 1.3.0, the default evaluation metric used with the objective 'binary:logistic' was changed from 'error' to 'logloss'. Explicitly set eval_metric if you'd like to restore the old behavior.\n"
     ]
    },
    {
     "name": "stderr",
     "output_type": "stream",
     "text": [
      "C:\\Users\\pierr\\anaconda3\\lib\\site-packages\\xgboost\\sklearn.py:888: UserWarning: The use of label encoder in XGBClassifier is deprecated and will be removed in a future release. To remove this warning, do the following: 1) Pass option use_label_encoder=False when constructing XGBClassifier object; and 2) Encode your labels (y) as integers starting with 0, i.e. 0, 1, 2, ..., [num_class - 1].\n",
      "  warnings.warn(label_encoder_deprecation_msg, UserWarning)\n"
     ]
    },
    {
     "name": "stdout",
     "output_type": "stream",
     "text": [
      "(0.9911777599181706, 0.49992685781158575)\n",
      "(0.6032731789289106, 0.5797195269992926)\n",
      "(0.6713852560824138, 0.6562524562675213)\n"
     ]
    }
   ],
   "source": [
    "list_of_models=[tree,forest,ada,xr,xc,LR,SVM] #remarque : on peut faire mieux avec un dictionnaire\n",
    "\n",
    "for model in list_of_models:\n",
    "    pipe_overfiting=make_pipeline(SelectKBest(f_classif,k=4),model)\n",
    "    print(evaluation(pipe_overfiting,X_train,y_train,X_test,y_test))"
   ]
  },
  {
   "cell_type": "code",
   "execution_count": 15,
   "metadata": {},
   "outputs": [
    {
     "name": "stderr",
     "output_type": "stream",
     "text": [
      "C:\\Users\\pierr\\anaconda3\\lib\\site-packages\\sklearn\\linear_model\\_logistic.py:762: ConvergenceWarning: lbfgs failed to converge (status=1):\n",
      "STOP: TOTAL NO. of ITERATIONS REACHED LIMIT.\n",
      "\n",
      "Increase the number of iterations (max_iter) or scale the data as shown in:\n",
      "    https://scikit-learn.org/stable/modules/preprocessing.html\n",
      "Please also refer to the documentation for alternative solver options:\n",
      "    https://scikit-learn.org/stable/modules/linear_model.html#logistic-regression\n",
      "  n_iter_i = _check_optimize_result(\n"
     ]
    },
    {
     "name": "stdout",
     "output_type": "stream",
     "text": [
      "(0.7424200312513507, 0.5642821585460642)\n"
     ]
    }
   ],
   "source": [
    "pipe_underfiting=make_pipeline(PolynomialFeatures(2),LR)\n",
    "print(evaluation(pipe_underfiting,X_train,y_train,X_test,y_test))"
   ]
  },
  {
   "cell_type": "markdown",
   "metadata": {},
   "source": [
    "# Courbes du meilleur modèle: xgb regressor"
   ]
  },
  {
   "cell_type": "code",
   "execution_count": 16,
   "metadata": {},
   "outputs": [
    {
     "name": "stdout",
     "output_type": "stream",
     "text": [
      "(0.9983145815970726, 0.7032654166266386)\n"
     ]
    },
    {
     "data": {
      "image/png": "[encoded data removed]",
      "text/plain": [
       "<Figure size 432x288 with 1 Axes>"
      ]
     },
     "metadata": {
      "needs_background": "light"
     },
     "output_type": "display_data"
    }
   ],
   "source": [
    "pipe_xgbr=make_pipeline(SelectKBest(f_classif,k=4),xr)\n",
    "\n",
    "print(evaluation(pipe_xgbr,X_train,y_train,X_test,y_test))\n",
    "courbes(pipe_xgbr,X_train,y_train,X_test,y_test)"
   ]
  },
  {
   "cell_type": "markdown",
   "metadata": {},
   "source": [
    "# Optimisation des hyper paramètres par gridsearch custom:\n",
    "à cause du SMOTE, les cross validations sont biaisées et les résultats de gridsearchCV faussés (train trop homogène).\n",
    "(Pas de randomizedsearchpossible)"
   ]
  },
  {
   "cell_type": "code",
   "execution_count": 83,
   "metadata": {},
   "outputs": [
    {
     "data": {
      "text/plain": [
       "Pipeline(steps=[('selectkbest', SelectKBest(k=4)),\n",
       "                ('xgbregressor',\n",
       "                 XGBRegressor(base_score=0.5, booster='gbtree',\n",
       "                              colsample_bylevel=1, colsample_bynode=1,\n",
       "                              colsample_bytree=1, gamma=0, gpu_id=-1,\n",
       "                              importance_type='gain',\n",
       "                              interaction_constraints='',\n",
       "                              learning_rate=0.300000012, max_delta_step=0,\n",
       "                              max_depth=6, min_child_weight=1, missing=nan,\n",
       "                              monotone_constraints='()', n_estimators=100,\n",
       "                              n_jobs=8, num_parallel_tree=1, random_state=0,\n",
       "                              reg_alpha=0, reg_lambda=1, scale_pos_weight=1,\n",
       "                              subsample=1, tree_method='exact',\n",
       "                              validate_parameters=1, verbosity=None))])"
      ]
     },
     "execution_count": 83,
     "metadata": {},
     "output_type": "execute_result"
    }
   ],
   "source": [
    "pipe_xgbr"
   ]
  },
  {
   "cell_type": "code",
   "execution_count": 17,
   "metadata": {},
   "outputs": [
    {
     "name": "stdout",
     "output_type": "stream",
     "text": [
      "meilleur k: 4\n",
      "meilleur score: 0.6711920211697511\n",
      "meilleur depth: 4\n",
      "meilleur rate: 1\n"
     ]
    }
   ],
   "source": [
    "def grid_search_custom(X_train,y_train,X_test,y_test):\n",
    "    \n",
    "    #paramètres\n",
    "    k_liste=range(2,10)\n",
    "    depth_liste=[2,4,8,16]\n",
    "    rate_liste=[0.0001, 0.001, 0.01, 0.1,1]\n",
    "    \n",
    "    #initialisations:\n",
    "    meilleur_k=2\n",
    "    meilleur_depth=2\n",
    "    meilleur_rate=0.001\n",
    "    meilleur_score=0\n",
    "    \n",
    "    for r in rate_liste:\n",
    "        for d in depth_liste:\n",
    "            for kb in k_liste:\n",
    "                pipe_xgbr=make_pipeline(SelectKBest(f_classif,k=kb),xgb.XGBRegressor(learning_rate=r ,max_depth=d) )\n",
    "                a,b=evaluation(pipe_xgbr,X_train,y_train,X_test,y_test)\n",
    "                if b > meilleur_score:\n",
    "                    meilleur_score=b\n",
    "                    meilleur_k=kb\n",
    "                    meilleur_depth=d\n",
    "                    meilleur_rate=r\n",
    "                    meilleur_modele=pipe_xgbr\n",
    "\n",
    "    print('meilleur k:',meilleur_k)\n",
    "    print('meilleur score:',meilleur_score)\n",
    "    print('meilleur depth:',meilleur_depth)\n",
    "    print('meilleur rate:',meilleur_rate)\n",
    "    return meilleur_modele\n",
    "\n",
    "meilleur_modele=grid_search_custom(X_train,y_train,X_test,y_test)"
   ]
  },
  {
   "cell_type": "code",
   "execution_count": 18,
   "metadata": {},
   "outputs": [
    {
     "data": {
      "image/png": "[encoded data removed]",
      "text/plain": [
       "<Figure size 432x288 with 1 Axes>"
      ]
     },
     "metadata": {
      "needs_background": "light"
     },
     "output_type": "display_data"
    }
   ],
   "source": [
    "courbes(meilleur_modele,X_train,y_train,X_test,y_test)"
   ]
  },
  {
   "cell_type": "markdown",
   "metadata": {},
   "source": [
    "# Mise au bon format de ypred pour la compétion."
   ]
  },
  {
   "cell_type": "code",
   "execution_count": 221,
   "metadata": {},
   "outputs": [
    {
     "name": "stdout",
     "output_type": "stream",
     "text": [
      "                  PROC_TRACEINFO  Binar OP130_Resultat_Global_v\n",
      "0     I-B-XA1207672-190520-00632                          False\n",
      "1     I-B-XA1207672-190508-03689                          False\n",
      "2     I-B-XA1207672-190715-00577                          False\n",
      "3     I-B-XA1207672-190503-00796                          False\n",
      "4     I-B-XA1207672-190712-01837                          False\n",
      "...                          ...                            ...\n",
      "7996  I-B-XA1207672-190905-03031                          False\n",
      "7997  I-B-XA1207672-190531-00225                          False\n",
      "7998  I-B-XA1207672-190424-03040                          False\n",
      "7999  I-B-XA1207672-190715-00155                          False\n",
      "8000  I-B-XA1207672-190503-00995                          False\n",
      "\n",
      "[8001 rows x 2 columns]\n"
     ]
    },
    {
     "data": {
      "text/html": [
       "<div>\n",
       "<style scoped>\n",
       "    .dataframe tbody tr th:only-of-type {\n",
       "        vertical-align: middle;\n",
       "    }\n",
       "\n",
       "    .dataframe tbody tr th {\n",
       "        vertical-align: top;\n",
       "    }\n",
       "\n",
       "    .dataframe thead th {\n",
       "        text-align: right;\n",
       "    }\n",
       "</style>\n",
       "<table border=\"1\" class=\"dataframe\">\n",
       "  <thead>\n",
       "    <tr style=\"text-align: right;\">\n",
       "      <th></th>\n",
       "      <th>PROC_TRACEINFO</th>\n",
       "      <th>Binar OP130_Resultat_Global_v</th>\n",
       "    </tr>\n",
       "  </thead>\n",
       "  <tbody>\n",
       "    <tr>\n",
       "      <th>count</th>\n",
       "      <td>8001</td>\n",
       "      <td>8001</td>\n",
       "    </tr>\n",
       "    <tr>\n",
       "      <th>unique</th>\n",
       "      <td>8001</td>\n",
       "      <td>2</td>\n",
       "    </tr>\n",
       "    <tr>\n",
       "      <th>top</th>\n",
       "      <td>I-B-XA1207672-190829-00668</td>\n",
       "      <td>False</td>\n",
       "    </tr>\n",
       "    <tr>\n",
       "      <th>freq</th>\n",
       "      <td>1</td>\n",
       "      <td>7946</td>\n",
       "    </tr>\n",
       "  </tbody>\n",
       "</table>\n",
       "</div>"
      ],
      "text/plain": [
       "                    PROC_TRACEINFO Binar OP130_Resultat_Global_v\n",
       "count                         8001                          8001\n",
       "unique                        8001                             2\n",
       "top     I-B-XA1207672-190829-00668                         False\n",
       "freq                             1                          7946"
      ]
     },
     "execution_count": 221,
     "metadata": {},
     "output_type": "execute_result"
    }
   ],
   "source": [
    "ypred=meilleur_modele.predict(X_true)\n",
    "ypred=ypred>0.5\n",
    "\n",
    "\n",
    "#obligatoire : FINAL on met la submission au bon format car on veut un dataframe 2 colonnes\n",
    "df_out=pd.read_csv('Random_Submission_format.csv')\n",
    "df_out['Binar OP130_Resultat_Global_v']=ypred\n",
    "\n",
    "#exporter en csv une dataframe\n",
    "df_out.to_csv('prediction finale valeo 16 01' ,index=False)\n",
    "\n",
    "print(df_out)\n"
   ]
  },
  {
   "cell_type": "markdown",
   "metadata": {},
   "source": [
    "# -------------------------------Notes perso ne pas lire--------------------------------------------\n"
   ]
  },
  {
   "cell_type": "markdown",
   "metadata": {},
   "source": [
    "# Création d'une gaussianne multivariate à la main"
   ]
  },
  {
   "cell_type": "code",
   "execution_count": null,
   "metadata": {},
   "outputs": [],
   "source": [
    "def multi_gaussian(X, exemple_X)\n",
    "    return p(exemple)\n",
    "\n",
    "def trouve_seuil(X,y):\n",
    "    return meilleur seuil\n",
    "\n",
    "alpha=trouve_seuil(X,y)\n",
    "\n",
    "def prediction(exemple):\n",
    "    return multi_gaussian(X)>alpha\n"
   ]
  },
  {
   "cell_type": "code",
   "execution_count": 20,
   "metadata": {},
   "outputs": [
    {
     "name": "stdout",
     "output_type": "stream",
     "text": [
      "(0.9858474629025297, 0.6475408941250447)\n"
     ]
    },
    {
     "data": {
      "image/png": "[encoded data removed]",
      "text/plain": [
       "<Figure size 432x288 with 1 Axes>"
      ]
     },
     "metadata": {
      "needs_background": "light"
     },
     "output_type": "display_data"
    }
   ],
   "source": [
    "xgbR=xgb.XGBRegressor(objective ='reg:squarederror', colsample_bytree = 0.3, learning_rate = 0.111189,max_depth = 5, alpha = 1, n_estimators =30)\n",
    "\n",
    "print(evaluation(xgbR,X_train,y_train,X_test,y_test))\n",
    "\n",
    "courbes(xgbR,X_train,y_train,X_test,y_test)\n"
   ]
  }
 ],
 "metadata": {
  "kernelspec": {
   "display_name": "Python 3",
   "language": "python",
   "name": "python3"
  },
  "language_info": {
   "codemirror_mode": {
    "name": "ipython",
    "version": 3
   },
   "file_extension": ".py",
   "mimetype": "text/x-python",
   "name": "python",
   "nbconvert_exporter": "python",
   "pygments_lexer": "ipython3",
   "version": "3.8.5"
  }
 },
 "nbformat": 4,
 "nbformat_minor": 4
}
